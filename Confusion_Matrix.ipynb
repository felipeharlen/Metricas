{
  "cells": [
    {
      "cell_type": "code",
      "execution_count": 1,
      "metadata": {
        "id": "9GOTUsN2vHZr"
      },
      "outputs": [],
      "source": [
        "import tensorflow.keras as keras\n",
        "import matplotlib.pyplot as plt\n",
        "import tensorflow as tf\n",
        "import io\n",
        "import numpy as np\n",
        "import seaborn as sns\n",
        "import pandas as pd\n",
        "\n",
        "from tensorflow.keras import datasets, layers, models"
      ]
    },
    {
      "cell_type": "code",
      "execution_count": 2,
      "metadata": {
        "colab": {
          "base_uri": "https://localhost:8080/",
          "height": 35
        },
        "id": "Wickr6O73HpO",
        "outputId": "e8176b20-d931-4e07-95d6-42e2e31e4d13"
      },
      "outputs": [
        {
          "data": {
            "text/plain": [
              "'2.3.1'"
            ]
          },
          "execution_count": 2,
          "metadata": {},
          "output_type": "execute_result"
        }
      ],
      "source": [
        "tf.__version__"
      ]
    },
    {
      "cell_type": "code",
      "execution_count": 3,
      "metadata": {
        "colab": {
          "base_uri": "https://localhost:8080/"
        },
        "id": "Lc4AqLg2saU4",
        "outputId": "d5a19690-55eb-40b7-b33a-48473f8280d1"
      },
      "outputs": [],
      "source": [
        "%load_ext tensorboard"
      ]
    },
    {
      "cell_type": "code",
      "execution_count": 4,
      "metadata": {
        "id": "wHY7qcTV2uxR"
      },
      "outputs": [],
      "source": [
        "logdir='log'"
      ]
    },
    {
      "cell_type": "code",
      "execution_count": 5,
      "metadata": {
        "id": "8I41zgjVvF1g"
      },
      "outputs": [],
      "source": [
        "(train_images, train_labels), (test_images, test_labels) = datasets.mnist.load_data()\n",
        "\n",
        "train_images = train_images.reshape((60000, 28, 28, 1))\n",
        "test_images = test_images.reshape((10000, 28, 28, 1))\n",
        "\n",
        "train_images, test_images = train_images / 255.0, test_images / 255.0\n",
        "\n",
        "classes=[0, 1, 2, 3, 4, 5, 6, 7, 8, 9]"
      ]
    },
    {
      "cell_type": "code",
      "execution_count": 6,
      "metadata": {
        "id": "_eD7E_m39bis"
      },
      "outputs": [],
      "source": [
        "model = models.Sequential()\n",
        "model.add(layers.Conv2D(32, (3, 3), activation='relu', input_shape=(28, 28, 1)))\n",
        "model.add(layers.MaxPooling2D((2, 2)))\n",
        "model.add(layers.Conv2D(64, (3, 3), activation='relu'))\n",
        "model.add(layers.MaxPooling2D((2, 2)))\n",
        "model.add(layers.Conv2D(64, (3, 3), activation='relu'))\n",
        "\n",
        "model.add(layers.Flatten())\n",
        "model.add(layers.Dense(64, activation='relu'))\n",
        "model.add(layers.Dense(10, activation='softmax'))\n"
      ]
    },
    {
      "cell_type": "code",
      "execution_count": 7,
      "metadata": {
        "id": "e19fqT7B4QII"
      },
      "outputs": [],
      "source": [
        "tensorboard_callback = tf.keras.callbacks.TensorBoard(logdir, histogram_freq=1)"
      ]
    },
    {
      "cell_type": "code",
      "execution_count": 8,
      "metadata": {
        "colab": {
          "base_uri": "https://localhost:8080/"
        },
        "id": "QOIbCQ3T9bml",
        "outputId": "e95f1dc6-14b2-4c48-9334-517e35886f8c"
      },
      "outputs": [
        {
          "name": "stdout",
          "output_type": "stream",
          "text": [
            "Epoch 1/5\n",
            "1875/1875 [==============================] - 5s 3ms/step - loss: 0.1547 - accuracy: 0.9534 - val_loss: 0.0535 - val_accuracy: 0.9823\n",
            "Epoch 2/5\n",
            "1875/1875 [==============================] - 5s 3ms/step - loss: 0.0477 - accuracy: 0.9853 - val_loss: 0.0387 - val_accuracy: 0.9868\n",
            "Epoch 3/5\n",
            "1875/1875 [==============================] - 5s 3ms/step - loss: 0.0355 - accuracy: 0.9888 - val_loss: 0.0280 - val_accuracy: 0.9920\n",
            "Epoch 4/5\n",
            "1875/1875 [==============================] - 5s 3ms/step - loss: 0.0273 - accuracy: 0.9915 - val_loss: 0.0321 - val_accuracy: 0.9897\n",
            "Epoch 5/5\n",
            "1875/1875 [==============================] - 5s 3ms/step - loss: 0.0216 - accuracy: 0.9932 - val_loss: 0.0371 - val_accuracy: 0.9895\n"
          ]
        },
        {
          "data": {
            "text/plain": [
              "<tensorflow.python.keras.callbacks.History at 0x16b8fdc26a0>"
            ]
          },
          "execution_count": 8,
          "metadata": {},
          "output_type": "execute_result"
        }
      ],
      "source": [
        "model.compile(optimizer='adam',\n",
        "              loss='sparse_categorical_crossentropy',\n",
        "              metrics=['accuracy'])\n",
        "\n",
        "model.fit(x=train_images,\n",
        "            y=train_labels,\n",
        "            epochs=5,\n",
        "            validation_data=(test_images, test_labels))"
      ]
    },
    {
      "cell_type": "code",
      "execution_count": 9,
      "metadata": {
        "colab": {
          "base_uri": "https://localhost:8080/"
        },
        "id": "SHkdG_lehhMU",
        "outputId": "9c0fe0f3-d7f3-4050-caf1-1caded7e749b"
      },
      "outputs": [],
      "source": [
        "y_true=test_labels\n",
        "predictions=model.predict(test_images)\n",
        "y_pred = np.argmax(predictions, axis=1)\n"
      ]
    },
    {
      "cell_type": "code",
      "execution_count": 10,
      "metadata": {
        "colab": {
          "base_uri": "https://localhost:8080/"
        },
        "id": "UUjek_OtcQMu",
        "outputId": "1d75f251-8ace-48a8-d5ca-01f9467f68a0"
      },
      "outputs": [
        {
          "data": {
            "text/plain": [
              "(array([7, 2, 1, ..., 4, 5, 6], dtype=uint8),\n",
              " array([7, 2, 1, ..., 4, 5, 6], dtype=int64))"
            ]
          },
          "execution_count": 10,
          "metadata": {},
          "output_type": "execute_result"
        }
      ],
      "source": [
        "y_true, y_pred"
      ]
    },
    {
      "cell_type": "code",
      "execution_count": 11,
      "metadata": {
        "id": "iu2h0QRmDJjW"
      },
      "outputs": [],
      "source": [
        "classes=[0, 1, 2, 3, 4, 5, 6, 7, 8, 9]"
      ]
    },
    {
      "cell_type": "code",
      "execution_count": 12,
      "metadata": {
        "colab": {
          "base_uri": "https://localhost:8080/",
          "height": 826
        },
        "id": "REXBQV3UX15X",
        "outputId": "f85c1ef4-5cfc-4e6c-cbd0-c291a74ec862"
      },
      "outputs": [
        {
          "data": {
            "image/png": "[encoded data removed]",
            "text/plain": [
              "<Figure size 576x576 with 2 Axes>"
            ]
          },
          "metadata": {
            "needs_background": "light"
          },
          "output_type": "display_data"
        }
      ],
      "source": [
        "con_mat = tf.math.confusion_matrix(labels=y_true, predictions=y_pred).numpy()\n",
        "con_mat_norm = np.around(con_mat.astype('float') / con_mat.sum(axis=1)[:, np.newaxis], decimals=2)\n",
        "\n",
        "con_mat_df = pd.DataFrame(con_mat_norm,\n",
        "                     index = classes,\n",
        "                     columns = classes)\n",
        "\n",
        "figure = plt.figure(figsize=(8, 8))\n",
        "sns.heatmap(con_mat_df, annot=True,cmap=plt.cm.Blues)\n",
        "plt.tight_layout()\n",
        "plt.ylabel('True label')\n",
        "plt.xlabel('Predicted label')\n",
        "plt.show()"
      ]
    },
    {
      "cell_type": "code",
      "execution_count": 13,
      "metadata": {
        "colab": {
          "base_uri": "https://localhost:8080/"
        },
        "id": "DjN8YE8Vi512",
        "outputId": "6c49ee6a-bf29-46a5-e04c-6b75739bda4c"
      },
      "outputs": [
        {
          "data": {
            "text/plain": [
              "array([[ 976,    0,    0,    1,    0,    0,    1,    2,    0,    0],\n",
              "       [   1, 1118,    4,    4,    0,    1,    0,    7,    0,    0],\n",
              "       [   1,    0, 1025,    0,    0,    0,    0,    6,    0,    0],\n",
              "       [   0,    0,    1, 1005,    0,    3,    0,    0,    1,    0],\n",
              "       [   0,    0,    0,    0,  981,    0,    0,    0,    0,    1],\n",
              "       [   0,    0,    0,    9,    0,  881,    1,    1,    0,    0],\n",
              "       [   2,    2,    4,    0,    3,    9,  931,    0,    7,    0],\n",
              "       [   0,    0,    3,    2,    0,    0,    0, 1022,    0,    1],\n",
              "       [   1,    0,    1,    1,    0,    2,    0,    1,  967,    1],\n",
              "       [   2,    0,    0,    1,    6,    4,    0,    5,    2,  989]])"
            ]
          },
          "execution_count": 13,
          "metadata": {},
          "output_type": "execute_result"
        }
      ],
      "source": [
        "con_mat"
      ]
    },
    {
      "cell_type": "code",
      "execution_count": 14,
      "metadata": {
        "colab": {
          "base_uri": "https://localhost:8080/"
        },
        "id": "Jf5kh5rmjiD-",
        "outputId": "fe40a6a9-1a28-41dc-f4b5-c8b5ac14a530"
      },
      "outputs": [
        {
          "data": {
            "text/plain": [
              "(9895, 105, 105, 10000)"
            ]
          },
          "execution_count": 14,
          "metadata": {},
          "output_type": "execute_result"
        }
      ],
      "source": [
        "total = con_mat.sum()\n",
        "vp = np.diag(con_mat).sum()\n",
        "fp = con_mat.sum(axis=0).sum() - vp\n",
        "fn = con_mat.sum(axis=1).sum() - vp\n",
        "vp, fp, fn, total"
      ]
    },
    {
      "cell_type": "code",
      "execution_count": 15,
      "metadata": {
        "colab": {
          "base_uri": "https://localhost:8080/"
        },
        "id": "riQkCySdreku",
        "outputId": "e4bb6b0a-4fa7-45d0-f0b1-2ad57416a251"
      },
      "outputs": [
        {
          "data": {
            "text/plain": [
              "(976, 9013, 7, 4)"
            ]
          },
          "execution_count": 15,
          "metadata": {},
          "output_type": "execute_result"
        }
      ],
      "source": [
        "# VP, VN, FP e FN em relação especificamente à classe 0\n",
        "# Necessários para o cálculo da espeficidade que, neste caso, será calculado\n",
        "# apenas para a classe em questão\n",
        "\n",
        "vp_0 = np.diag(con_mat)[0]\n",
        "fp_0 = con_mat[:, 0].sum() - vp_0\n",
        "fn_0 = con_mat[0, :].sum() - vp_0\n",
        "vn_0 = total - (vp_0 + fp_0 + fn_0)\n",
        "vp_0, vn_0, fp_0, fn_0"
      ]
    },
    {
      "cell_type": "code",
      "execution_count": 16,
      "metadata": {
        "id": "-1byuMoxw5i0"
      },
      "outputs": [],
      "source": [
        "# Cálculo das métricas de avaliação a partir da matriz de confusão\n",
        "\n",
        "sens = vp / (vp + fn)\n",
        "espec = vn_0 / (fp_0 + vn_0)\n",
        "acc = vp / total\n",
        "prec = vp / (vp + fp)\n",
        "f1_score = 2 * (prec  * sens) / (prec + sens)"
      ]
    },
    {
      "cell_type": "code",
      "execution_count": 17,
      "metadata": {
        "colab": {
          "base_uri": "https://localhost:8080/"
        },
        "id": "T_uNXVKwpZbF",
        "outputId": "5c8c16a8-15e7-4399-c125-6abad3609937"
      },
      "outputs": [
        {
          "name": "stdout",
          "output_type": "stream",
          "text": [
            "Sensibilidade: 0.9895\n",
            "Especificidade (classe 0): 0.9992\n",
            "Acurácia: 0.9895\n",
            "Precisão: 0.9895\n",
            "F1-score micro: 0.9895\n"
          ]
        }
      ],
      "source": [
        "print(f'Sensibilidade: {sens:.4f}')\n",
        "print(f'Especificidade (classe 0): {espec:.4f}')\n",
        "print(f'Acurácia: {acc:.4f}')\n",
        "print(f'Precisão: {prec:.4f}')\n",
        "print(f'F1-score micro: {f1_score:.4f}')"
      ]
    }
  ],
  "metadata": {
    "accelerator": "TPU",
    "colab": {
      "provenance": []
    },
    "kernelspec": {
      "display_name": "Python 3",
      "name": "python3"
    },
    "language_info": {
      "codemirror_mode": {
        "name": "ipython",
        "version": 3
      },
      "file_extension": ".py",
      "mimetype": "text/x-python",
      "name": "python",
      "nbconvert_exporter": "python",
      "pygments_lexer": "ipython3",
      "version": "3.8.10"
    }
  },
  "nbformat": 4,
  "nbformat_minor": 0
}
